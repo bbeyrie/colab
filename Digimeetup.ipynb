{
 "cells": [
  {
   "cell_type": "markdown",
   "metadata": {},
   "source": [
    "#  <center> Digi Meet-up : Exemples</center>\n"
   ]
  },
  {
   "cell_type": "code",
   "execution_count": null,
   "metadata": {
    "collapsed": true
   },
   "outputs": [],
   "source": [
    "!git clone https://github.com/bbeyrie/images.git"
   ]
  },
  {
   "cell_type": "code",
   "execution_count": null,
   "metadata": {
    "collapsed": true
   },
   "outputs": [],
   "source": [
    "%matplotlib inline\n",
    "%config InlineBackend.figure_format = 'svg'\n"
    "%plt.rcParams['axes.facecolor'] = 'white'\n"
    "%plt.grid(c='grey')"
   ]
  },
  {
   "cell_type": "markdown",
   "metadata": {},
   "source": [
    "## Example 1 : Mathematical morphology"
   ]
  },
  {
   "cell_type": "markdown",
   "metadata": {},
   "source": [
    "Dilatation, Erosion, Opening, Closing"
   ]
  },
  {
   "cell_type": "code",
   "execution_count": null,
   "metadata": {
    "collapsed": true
   },
   "outputs": [],
   "source": [
    "import cv2\n",
    "import matplotlib.pyplot as plt\n",
    "morph=plt.imread('./images/morpho.jpg')\n",
    "plt.subplot(2,3,1)\n",
    "plt.imshow(morph)\n",
    "plt.title(\"Originale\")\n",
    "\n",
    "kernel = cv2.getStructuringElement(cv2.MORPH_ELLIPSE,(5,5))\n",
    "\n",
    "eroded = cv2.morphologyEx(morph, cv2.MORPH_ERODE, kernel,iterations = 10)\n",
    "plt.subplot(2,3,2)\n",
    "plt.imshow(eroded)\n",
    "plt.title(\"Erode\")\n",
    "\n",
    "dilated = cv2.morphologyEx(morph, cv2.MORPH_DILATE, kernel,iterations = 10)\n",
    "plt.subplot(2,3,3)\n",
    "plt.imshow(dilated)\n",
    "plt.title(\"Dilate\")\n",
    "\n",
    "closed = cv2.morphologyEx(morph, cv2.MORPH_CLOSE, kernel,iterations = 10)\n",
    "plt.subplot(2,3,4)\n",
    "plt.imshow(closed)\n",
    "plt.title(\"Fermeture\",y=-0.3)\n",
    "\n",
    "opened = cv2.morphologyEx(morph, cv2.MORPH_OPEN, kernel,iterations = 10)\n",
    "plt.subplot(2,3,5)\n",
    "plt.imshow(opened)\n",
    "plt.title(\"Ouverture\",y=-0.3)"
   ]
  },
  {
   "cell_type": "markdown",
   "metadata": {},
   "source": [
    "4-Connexity, 8-Connexity, Region propagation ..."
   ]
  },
  {
   "cell_type": "code",
   "execution_count": null,
   "metadata": {
    "collapsed": true
   },
   "outputs": [],
   "source": [
    "import math\n",
    "import numpy as np\n",
    "import matplotlib.pyplot as plt\n",
    "import numpy.random as nprand\n",
    "\n",
    "def showImage3channels(InputImage):\n",
    "  plt.figure(1)\n",
    "  plt.imshow(InputImage[:,:,0],cmap='Greys')\n",
    "  plt.title('channel 1: red')\n",
    "  plt.colorbar()\n",
    "  \n",
    "  plt.figure(2)\n",
    "  plt.imshow(InputImage[:,:,1],cmap='Greys')\n",
    "  plt.title('channel 2: green')\n",
    "  plt.colorbar()\n",
    "  \n",
    "  plt.figure(3)\n",
    "  plt.imshow(InputImage[:,:,2],cmap='Greys')\n",
    "  plt.title('channel 3: blue')\n",
    "  plt.colorbar()\n",
    "  \n",
    "  plt.show()\n",
    "\n",
    "\n",
    "def showImage1channel(InputImage,mask='Null',ColorMapForLabels=0):\n",
    "  if mask=='Null':\n",
    "    if ColorMapForLabels>0.5:\n",
    "      imgplot = plt.imshow(InputImage,cmap='gist_ncar')\n",
    "    else:\n",
    "      imgplot = plt.imshow(InputImage,cmap='Greys')\n",
    "    plt.colorbar()\n",
    "    plt.show()\n",
    "  else:\n",
    "    if ColorMapForLabels>0.5:\n",
    "      imgplot = plt.imshow(InputImage*(mask>0.5),cmap='gist_ncar')\n",
    "    else:\n",
    "      imgplot = plt.imshow(InputImage*(mask>0.5)+InputImage*(mask<0.5)*0.3,cmap='Greys')\n",
    "    plt.colorbar()\n",
    "    plt.show()"
   ]
  },
  {
   "cell_type": "code",
   "execution_count": null,
   "metadata": {
    "collapsed": true
   },
   "outputs": [],
   "source": [
    "#Définition de la distance utilisée\n",
    "def dist (Im, pt1, pt2):\n",
    "    return ((Im[pt2[0],pt2[1]]-Im[pt1[0],pt1[1]])**2+math.sqrt((pt1[0]-pt2[0])**2+ (pt1[1]-pt2[1])**2))\n",
    "\n",
    "def RegionPropagation(InputImage,seed,thresh):\n",
    "    #nombre d'itérations maximal de l'algorithme\n",
    "    nbMaxIter=400\n",
    "    C = InputImage.copy()\n",
    "    p = seed.copy()\n",
    "    p_bord=p.copy()\n",
    "    #Définition du champ des coûts \n",
    "    C[:,:] = thresh+1\n",
    "    for x in p:     \n",
    "        C[x[0],x[1]] = 0\n",
    "    #nombre d'itérations de l'algorithme\n",
    "    stop = 0\n",
    "    # Vrai si des points ont été ajoutés à p\n",
    "    changement=True\n",
    "    while (changement and stop< nbMaxIter):\n",
    "        changement = False\n",
    "        ListNewPix = []\n",
    "        #Définition d'une fonction associant à un point de l'image son coût\n",
    "        def cout(y):\n",
    "            return C[y[0],y[1]]\n",
    "        #tri des points de p en fonction de leur cout\n",
    "\n",
    "        for pt in p_bord:   \n",
    "            for voisin_X in [-1,0,1]:\n",
    "                \n",
    "                for voisin_Y in [-1,0,1]:\n",
    "                    vois=[pt[0]+voisin_X,pt[1]+voisin_Y]\n",
    "                    if ((C[vois[0],vois[1]] > (C[pt[0],pt[1]] + dist(InputImage, vois, pt)))and not(vois in p)):\n",
    "                        \n",
    "                        C[vois[0],vois[1]] = (C[pt[0],pt[1]] + dist(InputImage, vois, pt))\n",
    "                        ListNewPix.append(vois)\n",
    "                        changement = True\n",
    "       \n",
    "        \n",
    "        p_bord=ListNewPix.copy()\n",
    "        p_bord.sort(key=cout)\n",
    "        p.extend(p_bord)\n",
    "        stop = stop + 1\n",
    "    if (stop== nbMaxIter):\n",
    "        print(\"Algorithme arrete apres nbMaxIter iterations, vous pouvez augmenter nbMaxIter\")\n",
    "    SegmentedImage = InputImage.copy()\n",
    "    SegmentedImage[:,:] = 0\n",
    "    for e in p:\n",
    "        \n",
    "        SegmentedImage[e[0],e[1]] = InputImage[e[0],e[1]]\n",
    "\n",
    "    return SegmentedImage\n",
    "\n",
    "Im2=(plt.imread('./images/Tournefeuille_NDG.png')*255.).astype(\"uint8\")*1.\n",
    "showImage1channel(Im2)\n",
    "\n",
    "seed=[[650,848],[638,1017], [778,353],[289,954],[289,954]]\n",
    "ImSeg=RegionPropagation(Im2,seed, 700)\n",
    "showImage1channel(Im2,mask=ImSeg)\n",
    "showImage1channel(ImSeg)"
   ]
  },
  {
   "cell_type": "markdown",
   "metadata": {},
   "source": [
    "## Example 2 : Optimization & Image"
   ]
  },
  {
   "cell_type": "markdown",
   "metadata": {},
   "source": [
    "Image denoising using the Thykonov model:\n",
    "\n",
    "$ E(w) = \\sum_{i,j=0}^{N-1} \\mid \\nabla w_{i,j} \\mid^2 + \\lambda \\sum_{i,j=0}^{N-1} ( w_{i,j} - v_{i,j} )^2 $\n",
    "\n",
    "Our image take the form of v = u + b with v our image, b a gaussian noise and u the wanted target.\n"
   ]
  },
  {
   "cell_type": "code",
   "execution_count": null,
   "metadata": {
    "collapsed": true,
    "scrolled": true
   },
   "outputs": [],
   "source": [
    "import numpy as np\n",
    "import matplotlib.pyplot as plt\n",
    "import numpy.random as nprand\n",
    "\n",
    "def grad_x(I,adjoint = False):\n",
    "    x,y = np.shape(I)\n",
    "    if not adjoint:      \n",
    "        tmp = np.concatenate((I[1:x,:],\n",
    "           I[0,:].reshape(1,-1)), axis = 0)\n",
    "        out = tmp - I \n",
    "    else:\n",
    "        tmp = np.concatenate((I[x-1,:].reshape(1,-1),\n",
    "           I[:x-1,:]), axis = 0)\n",
    "        out = tmp - I \n",
    "    return(out)   \n",
    "    \n",
    "def grad_y(I,adjoint = False):\n",
    "    x,y = np.shape(I)\n",
    "    if not adjoint:\n",
    "        tmp = np.concatenate((I[:,1:y],\n",
    "           I[:,0].reshape(-1,1)), axis = 1)\n",
    "        out = tmp - I \n",
    "    else:\n",
    "        tmp = np.concatenate((I[:,y-1].reshape(-1,1),\n",
    "           I[:,:y-1]), axis = 1)\n",
    "        out = tmp - I   \n",
    "    return(out)\n",
    "    \n",
    "def direction_descente(I,out,lambdaa):\n",
    "    tmp = grad_x(out,False)\n",
    "    lap_x= grad_x(tmp,True)\n",
    "    tmp = grad_y(out,False)\n",
    "    lap_y= grad_y(tmp,True)\n",
    "    descente = - (2*lap_x +2* lap_y + 2*lambdaa*(out-I))\n",
    "    return(descente)    \n",
    "    \n",
    "def quadratique_approx(I, lambdaa = 1, nbIter = 100):\n",
    "    out = I\n",
    "    for i in range(nbIter):\n",
    "        descente = direction_descente(I,out,lambdaa)\n",
    "        out = out + 0.01 * descente\n",
    "    return(out)\n",
    "\n",
    "\n",
    "barbara_bruite = plt.imread('./images/barbara.bmp')\n",
    "barbara_bruite = barbara_bruite[:,:,0] / 255.\n",
    "barbara_bruite += nprand.normal(0,0.15,(np.shape(barbara_bruite)))\n",
    "plt.subplot(1,2,1)\n",
    "plt.imshow(barbara_bruite)\n",
    "\n",
    "barbara_debruite = quadratique_approx(barbara_bruite, 1, 300)\n",
    "plt.subplot(1,2,2)\n",
    "plt.imshow(barbara_debruite)"
   ]
  },
  {
   "cell_type": "markdown",
   "metadata": {},
   "source": [
    "Image registration using an other formula to minimize the energy"
   ]
  },
  {
   "cell_type": "code",
   "execution_count": null,
   "metadata": {
    "collapsed": true
   },
   "outputs": [],
   "source": [
    "import numpy as np\n",
    "from images import RegLib\n",
    "\n",
    "ImFix=RegLib.OpImage('./images/Brains_Fixed.png')\n",
    "ImDef=RegLib.OpImage('./images/Brains_Fixed.png')\n",
    "ImMov=RegLib.OpImage('./images/Brains_Moving.png')\n",
    "\n",
    "def CptGradE(ImFix,ImDef,ImMov,Cx,Cy,theta,Delta_theta,dx,dy,Delta_dxdy):\n",
    "  \"\"\"\n",
    "  Approximate the gradient of E with respect to theta, dx and dy using centered finite differences.\n",
    "  Inputs:\n",
    "    ImFix,ImDef,ImMov: The fixed, moving and deformed images\n",
    "    Cx,Cy: rotation center\n",
    "    theta: rotation in radians \n",
    "    Delta_theta: Delta rotation for the finite differences\n",
    "    dx,dy: translation on the x and y axes\n",
    "    Delta_dxdy: Delta translation for the finite differences\n",
    "  Outputs:\n",
    "    dEdtheta,dEddx,dEddy: Gradient of E with respect to theta, dx and dy\n",
    "  \"\"\"\n",
    "  #estimate the energy derivative with respect to theta\n",
    "  RegLib.TranslateAndRotateImage(Cx,Cy,theta+Delta_theta,dx,dy,ImMov,ImDef)\n",
    "  E_thetaPlus=RegLib.Cpt_SSD(ImDef,ImFix)\n",
    "  RegLib.TranslateAndRotateImage(Cx,Cy,theta-Delta_theta,dx,dy,ImMov,ImDef)\n",
    "  E_thetaMinus=RegLib.Cpt_SSD(ImDef,ImFix)\n",
    "  dEdtheta=(E_thetaPlus-E_thetaMinus)/(2*Delta_theta)\n",
    "  \n",
    "  #estimate the energy derivative with respect to dx\n",
    "  RegLib.TranslateAndRotateImage(Cx,Cy,theta,dx+Delta_dxdy,dy,ImMov,ImDef)\n",
    "  E_dxPlus=RegLib.Cpt_SSD(ImDef,ImFix)\n",
    "  RegLib.TranslateAndRotateImage(Cx,Cy,theta,dx-Delta_dxdy,dy,ImMov,ImDef)\n",
    "  E_dxMinus=RegLib.Cpt_SSD(ImDef,ImFix)\n",
    "  dEddx=(E_dxPlus-E_dxMinus)/2.\n",
    "  \n",
    "  #estimate the energy derivative with respect to dy\n",
    "  RegLib.TranslateAndRotateImage(Cx,Cy,theta,dx,dy+Delta_dxdy,ImMov,ImDef)\n",
    "  E_dyPlus=RegLib.Cpt_SSD(ImDef,ImFix)\n",
    "  RegLib.TranslateAndRotateImage(Cx,Cy,theta,dx,dy-Delta_dxdy,ImMov,ImDef)\n",
    "  E_dyMinus=RegLib.Cpt_SSD(ImDef,ImFix)\n",
    "  dEddy=(E_dyPlus-E_dyMinus)/2.\n",
    "  \n",
    "  return(dEdtheta,dEddx,dEddy)\n",
    "\n",
    "\n",
    "#Paramètres\n",
    "theta=0.\n",
    "dx=0.\n",
    "dy=0.\n",
    "RegLib.TranslateAndRotateImage(180,180,theta,dx,dy,ImMov,ImDef)\n",
    "E_init=RegLib.Cpt_SSD(ImDef,ImFix)\n",
    "print('Initial energy:'+str(E_init))\n",
    "ImFix.CompareWithAnotherImage(ImMov,LabelSelfIm='Fixed image',LabelComparedIm='Moving image',ShowAll=1)\n",
    "\n",
    "\n",
    "\n",
    "[dEdtheta,dEddx,dEddy]=CptGradE(ImFix,ImDef,ImMov,180,180,theta,0.017,dx,dy,1)\n",
    "epsilon_Theta=np.fabs(0.017/dEdtheta)*0.5         #pour controler la vitesse de convergence en theta\n",
    "epsilon_dx=np.fabs(1./dEddx)*0.5                  #pour controler la vitesse de convergence en dx\n",
    "epsilon_dy=np.fabs(1./dEddy)*0.5                  #pour controler la vitesse de convergence en dy\n",
    "for i in range(20):\n",
    "    \n",
    "  # Calcul du gradient d'energie   (pas de regularisation des deformations ici car on ne fait pas d'hypothese sur ce que devrait etre la deformation ideal)\n",
    "  [dEdtheta,dEddx,dEddy]=CptGradE(ImFix,ImDef,ImMov,180,180,theta,0.017,dx,dy,1)\n",
    "  \n",
    "  # Mise a jour des parametres\n",
    "  theta=theta-dEdtheta*epsilon_Theta\n",
    "  dx=dx-dEddx*epsilon_dx\n",
    "  dy=dy-dEddy*epsilon_dy\n",
    "  \n",
    "  # Affiche et sauvegarde l'evolution des parametres\n",
    "  E=RegLib.Cpt_SSD(ImDef,ImFix)\n",
    "  print(\"theta=\"+str(theta)+\"  dx=\"+str(dx)+\"  dy=\"+str(dy)+\"  -> E=\"+str(E))\n",
    "  RegLib.TranslateAndRotateImage(180,180,theta,dx,dy,ImMov,ImDef)\n",
    "\n",
    "    \n",
    "RegLib.TranslateAndRotateImage(180,180,theta,dx,dy,ImMov,ImDef)\n",
    "print(\"Final parameters: theta=\"+str(theta)+\",  dx=\"+str(dx)+\",  dy=\"+str(dy))\n",
    "print('Final energy:'+str(E))\n",
    "\n",
    "ImFix.CompareWithAnotherImage(ImDef,LabelSelfIm='Fixed image',LabelComparedIm='Deformed image',ShowAll=1)"
   ]
  },
  {
   "cell_type": "markdown",
   "metadata": {},
   "source": [
    "## Example 3 : Differentials equations & Image"
   ]
  },
  {
   "cell_type": "markdown",
   "metadata": {},
   "source": [
    "Texture creation using FitzHugh-Nagumo model:\n",
    " \n",
    "$\\delta_t u(t,x) = \\Delta u(t,x) + (u(1-u)(u-\\alpha)-v)/\\epsilon$\n",
    "\n",
    "$\\delta_t v(t,x) = \\gamma u(t,x) + \\beta v(t,x)$"
   ]
  },
  {
   "cell_type": "code",
   "execution_count": null,
   "metadata": {
    "collapsed": true
   },
   "outputs": [],
   "source": [
    "import numpy as np\n",
    "import matplotlib.pyplot as plt\n",
    "import math as m\n",
    "from IPython.display import clear_output\n",
    "\n",
    "###paramètre###\n",
    "a = 0.1\n",
    "epsilon = 0.005\n",
    "gamma = 1\n",
    "beta = 0.5\n",
    "N = 200;  \n",
    "Nt = 1000\n",
    "dx = 40/N; \n",
    "dt = 5/Nt\n",
    "\n",
    "###Maillage###\n",
    "x = np.linspace(-20,20,N)\n",
    "y = np.linspace(-20,20,N)\n",
    "T = np.linspace(0,5,Nt)\n",
    "\n",
    "###Fonctions###\n",
    "def f(u,v):\n",
    "    #res = (np.dot(np.dot(u,(1-u)),(u-a))-v)/epsilon\n",
    "    res = ((u*(1-u)*(u-a))-v)/epsilon\n",
    "    return res \n",
    "\n",
    "def g(u,v):\n",
    "    return (gamma*u) - (beta*v)\n",
    "\n",
    "def u0(x,y):\n",
    "    res = 0\n",
    "    if (x>0 and y<5):\n",
    "        res = 1/((1+np.exp(4*(np.linalg.norm((x,y))-5)))**2) - 1/((1+np.exp(4*(np.linalg.norm((x,y))-1)))**2)\n",
    "    return res\n",
    "\n",
    "def v0(x,y):\n",
    "    res = 0\n",
    "    if (x<1 and y>-10):\n",
    "        res = 0.15\n",
    "    return res"
   ]
  },
  {
   "cell_type": "code",
   "execution_count": null,
   "metadata": {
    "collapsed": true
   },
   "outputs": [],
   "source": [
    "###Iniatialisation###\n",
    "U = np.zeros((Nt,N,N))\n",
    "V = np.zeros((Nt,N,N))\n",
    "for i in range(N):\n",
    "    for j in range(N):\n",
    "        U[0,i,j] = u0(x[j],y[i])\n",
    "        V[0,i,j] = v0(x[j],y[i])\n",
    "\n",
    "#Boucle pas fractionnaire\n",
    "XIx = np.fft.fftfreq(N, d = dx);\n",
    "XIy = np.fft.fftfreq(N, d = dx);\n",
    "Eu = np.zeros((N,N))\n",
    "\n",
    "for o in range(N):\n",
    "    for n in range(N):\n",
    "        Eu[o,n] = np.exp(-((XIx[o]*2*np.pi)**2 + (XIy[n]*2*np.pi)**2) * dt); \n",
    "\n",
    "im = plt.imshow(U[0,:,:]); plt.colorbar(im);\n",
    "                \n",
    "for i in range(1,Nt):\n",
    "    #equation 1\n",
    "    U1 = U[i-1,:,:];\n",
    "    \n",
    "    #euler implicite ordre 1\n",
    "    U2 = U1 + (dt) * f(U1,V[i-1,:,:]);\n",
    "    #equation 2\n",
    "    #on passe en base de Fourier\n",
    "    U2Fourier = np.fft.fft2(U2)\n",
    "    EU2Fourier = Eu * U2Fourier;\n",
    "    U3 = np.real(np.fft.ifft2(EU2Fourier));\n",
    "    \n",
    "    #equation 3\n",
    "    U3 = U3 + (dt) * f(U3,V[i-1,:,:]);\n",
    "    \n",
    "    #mise a jour de Un\n",
    "    U[i,:,:] = U3;\n",
    "    \n",
    "    #mise a jour de Vn\n",
    "    V[i,:,:] = V[i-1,:,:] + dt* g(U[i-1,:,:],V[i-1,:,:]);\n",
    "\n",
    "    if (m.fmod(i,10)==0):\n",
    "        clear_output(wait=True)\n",
    "        im = plt.imshow(U[i,:,:]); plt.colorbar(im);\n",
    "        plt.pause(0.001)"
   ]
  },
  {
   "cell_type": "markdown",
   "metadata": {},
   "source": [
    "Anisotropic diffusion for image filtering :\n",
    "\n",
    "$\\delta_t I(x,y) = div(c(x,y,t) \\cdot \\nabla I(x,y)) $"
   ]
  },
  {
   "cell_type": "code",
   "execution_count": null,
   "metadata": {
    "collapsed": true
   },
   "outputs": [],
   "source": [
    "!pip install medpy\n",
    "from  medpy.filter.smoothing import anisotropic_diffusion\n",
    "Sat = plt.imread('./images/satel.jpg')\n",
    "plt.imshow(Sat)"
   ]
  },
  {
   "cell_type": "code",
   "execution_count": null,
   "metadata": {
    "collapsed": true
   },
   "outputs": [],
   "source": [
    "Sat_regul = anisotropic_diffusion(Sat,niter=50, kappa=50, gamma=0.15)\n",
    "plt.imshow(Sat_regul.astype(\"int\"))"
   ]
  },
  {
   "cell_type": "markdown",
   "metadata": {},
   "source": [
    "## Example 4 : Machine Learning & Image"
   ]
  },
  {
   "cell_type": "markdown",
   "metadata": {},
   "source": [
    "Clustering : Image segmentation with K-means"
   ]
  },
  {
   "cell_type": "code",
   "execution_count": null,
   "metadata": {
    "collapsed": true
   },
   "outputs": [],
   "source": [
    "import numpy as np\n",
    "import matplotlib.pyplot as plt\n",
    "import numpy.random as nprand\n",
    "import scipy.ndimage as scim\n",
    "import scipy.cluster.vq as scipyvq\n",
    "\n",
    "def showImage3channels(InputImage):\n",
    "  plt.figure(1)\n",
    "  plt.imshow(InputImage[:,:,0],cmap='Greys')\n",
    "  plt.title('channel 1: red')\n",
    "  plt.colorbar()\n",
    "  \n",
    "  plt.figure(2)\n",
    "  plt.imshow(InputImage[:,:,1],cmap='Greys')\n",
    "  plt.title('channel 2: green')\n",
    "  plt.colorbar()\n",
    "  \n",
    "  plt.figure(3)\n",
    "  plt.imshow(InputImage[:,:,2],cmap='Greys')\n",
    "  plt.title('channel 3: blue')\n",
    "  plt.colorbar()\n",
    "  \n",
    "  plt.show()\n",
    "\n",
    "\n",
    "def showImage1channel(InputImage):\n",
    "  imgplot = plt.imshow(InputImage,cmap='Greys')\n",
    "  plt.colorbar()\n",
    "  plt.show()"
   ]
  },
  {
   "cell_type": "code",
   "execution_count": null,
   "metadata": {
    "collapsed": true
   },
   "outputs": [],
   "source": [
    "Im2=plt.imread('./images/voiture.jpg')\n",
    "Im=Im2*1.\n",
    "showImage3channels(Im)"
   ]
  },
  {
   "cell_type": "code",
   "execution_count": null,
   "metadata": {
    "collapsed": true
   },
   "outputs": [],
   "source": [
    "Imreshape=Im.reshape(Im.shape[0]*Im.shape[1],3)\n",
    "c,l=scipyvq.kmeans2(Imreshape,4)\n",
    "\n",
    "Imlabel = l.reshape(Im.shape[0],Im.shape[1])\n",
    "showImage1channel(Imlabel)"
   ]
  },
  {
   "cell_type": "markdown",
   "metadata": {},
   "source": [
    "Classification : Find the swimming pools with Random Forest"
   ]
  },
  {
   "cell_type": "code",
   "execution_count": null,
   "metadata": {
    "collapsed": true
   },
   "outputs": [],
   "source": [
    "from sklearn.ensemble import RandomForestClassifier\n",
    "\n",
    "Im=plt.imread('./images/Tournefeuille_RGB.png')*1.\n",
    "plt.imshow(Im)"
   ]
  },
  {
   "cell_type": "code",
   "execution_count": null,
   "metadata": {
    "collapsed": true
   },
   "outputs": [],
   "source": [
    "ImTest = np.zeros((Im.shape[0],Im.shape[1],4))\n",
    "ImTest[:,:,0:3] = Im.copy()\n",
    "ImTest[:,:,3] = None\n",
    "Piscine = [942,1782], [868,1809], [823,1285], [767,1284], [183,1612], [257,119],[258,119],[256,119]\n",
    "pasPiscine = [0,0], [1000,1000], [823,1000], [1200,1284], [183,500], [257,900],[258,0],[256,1500],[600,520],[530,700]\n",
    "X=np.zeros((len(Piscine)+len(pasPiscine),3))\n",
    "Y=np.zeros(len(Piscine)+len(pasPiscine))\n",
    "ind = 0\n",
    "for i in Piscine:\n",
    "    ImTest[i[0],i[1],3] = 1\n",
    "    X[ind,:] = ImTest[i[0],i[1],0:3]\n",
    "    Y[ind] = 1\n",
    "    ind = ind + 1\n",
    "    \n",
    "for i in pasPiscine:\n",
    "    ImTest[i[0],i[1],3] = 0\n",
    "    X[ind,:] = ImTest[i[0],i[1],0:3]\n",
    "    Y[ind] = 0\n",
    "    ind = ind + 1\n",
    "\n",
    "ind = 0\n",
    "Xtest = np.zeros((ImTest.shape[1]*ImTest.shape[0]-(len(Piscine)+len(pasPiscine)),3))\n",
    "for i in range(0,ImTest.shape[0]):\n",
    "        for j in range(0,ImTest.shape[1]):\n",
    "                if (ImTest[i,j,3] != 0 and ImTest[i,j,3] != 1):\n",
    "                    Xtest[ind,:] = ImTest[i,j,0:3]\n",
    "                    ind = ind + 1\n",
    "rf = RandomForestClassifier(n_estimators=100)\n",
    "rf = rf.fit(X, Y)\n",
    "\n",
    "Ypredict=rf.predict(Xtest)\n",
    "ind = 0\n",
    "for i in range(0,ImTest.shape[0]):\n",
    "        for j in range(0,ImTest.shape[1]):\n",
    "                if (ImTest[i,j,3] != 0 and ImTest[i,j,3] != 1):\n",
    "                    ImTest[i,j,3] = Ypredict[ind]\n",
    "                    ind = ind + 1\n",
    "                    \n",
    "                    \n",
    "showImage1channel(ImTest[:,:,3])"
   ]
  }
 ],
 "metadata": {
  "kernelspec": {
   "display_name": "Python 3",
   "language": "python",
   "name": "python3"
  },
  "language_info": {
   "codemirror_mode": {
    "name": "ipython",
    "version": 3
   },
   "file_extension": ".py",
   "mimetype": "text/x-python",
   "name": "python",
   "nbconvert_exporter": "python",
   "pygments_lexer": "ipython3",
   "version": "3.6.3"
  }
 },
 "nbformat": 4,
 "nbformat_minor": 2
}
